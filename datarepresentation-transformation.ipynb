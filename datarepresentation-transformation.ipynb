{
 "cells": [
  {
   "cell_type": "markdown",
   "id": "e5e5fcbc",
   "metadata": {
    "papermill": {
     "duration": 0.038476,
     "end_time": "2022-04-26T03:46:54.113357",
     "exception": false,
     "start_time": "2022-04-26T03:46:54.074881",
     "status": "completed"
    },
    "tags": []
   },
   "source": [
    "**Step #0: PROBLEM STATEMENT**\n",
    "\n",
    "Insurance.csv is a data listing the health insurance premium amount paid by individuals.\n",
    "\n",
    "We would like to develop a model to predict the total dollar amount that customers are willing to pay given the following following attributes using Artificial Neural Networks\n",
    "\n",
    "* Age\n",
    "* Gender\n",
    "* BMI\n",
    "* Smoker\n",
    "\n",
    "The model should be able to predict\n",
    "* Health Insurance Premium Charges"
   ]
  },
  {
   "cell_type": "markdown",
   "id": "9116c7be",
   "metadata": {
    "papermill": {
     "duration": 0.036679,
     "end_time": "2022-04-26T03:46:54.187670",
     "exception": false,
     "start_time": "2022-04-26T03:46:54.150991",
     "status": "completed"
    },
    "tags": []
   },
   "source": [
    "**STEP #1: IMPORT LIBRARIES/DATASETS**\n",
    "\n",
    "Data collected from https://www.kaggle.com/simranjain17/insurance"
   ]
  },
  {
   "cell_type": "code",
   "execution_count": 1,
   "id": "c8925fc7",
   "metadata": {
    "execution": {
     "iopub.execute_input": "2022-04-26T03:46:54.266037Z",
     "iopub.status.busy": "2022-04-26T03:46:54.264919Z",
     "iopub.status.idle": "2022-04-26T03:46:55.267490Z",
     "shell.execute_reply": "2022-04-26T03:46:55.268028Z",
     "shell.execute_reply.started": "2022-04-26T03:38:33.131518Z"
    },
    "papermill": {
     "duration": 1.043455,
     "end_time": "2022-04-26T03:46:55.268328",
     "exception": false,
     "start_time": "2022-04-26T03:46:54.224873",
     "status": "completed"
    },
    "tags": []
   },
   "outputs": [],
   "source": [
    "## Database Phase\n",
    "import pandas as pd\n",
    "import numpy as np\n",
    "\n",
    "#Visualization Phase\n",
    "import matplotlib.pyplot as plt\n",
    "import seaborn as sns\n",
    "import matplotlib as mpl\n",
    "import matplotlib.pylab as pylab\n",
    "%matplotlib inline\n",
    "pd.set_option('display.max_columns', 500)\n",
    "mpl.style.use('ggplot')\n",
    "sns.set_style('white')\n",
    "pylab.rcParams['figure.figsize'] = 12,8"
   ]
  },
  {
   "cell_type": "code",
   "execution_count": 2,
   "id": "3da44ed8",
   "metadata": {
    "execution": {
     "iopub.execute_input": "2022-04-26T03:46:55.353895Z",
     "iopub.status.busy": "2022-04-26T03:46:55.353125Z",
     "iopub.status.idle": "2022-04-26T03:46:55.367566Z",
     "shell.execute_reply": "2022-04-26T03:46:55.368060Z",
     "shell.execute_reply.started": "2022-04-26T03:38:34.152379Z"
    },
    "papermill": {
     "duration": 0.062046,
     "end_time": "2022-04-26T03:46:55.368274",
     "exception": false,
     "start_time": "2022-04-26T03:46:55.306228",
     "status": "completed"
    },
    "tags": []
   },
   "outputs": [],
   "source": [
    "insurance = pd.read_csv('../input/insurance/insurance.csv')\n",
    "insurance_copy=insurance.copy('../input/insurance/insurance.csv')"
   ]
  },
  {
   "cell_type": "markdown",
   "id": "cd1cf684",
   "metadata": {
    "papermill": {
     "duration": 0.037393,
     "end_time": "2022-04-26T03:46:55.444238",
     "exception": false,
     "start_time": "2022-04-26T03:46:55.406845",
     "status": "completed"
    },
    "tags": []
   },
   "source": [
    "**STEP #2: DATA CLEANSING AND DATA TRANSFORMATION**"
   ]
  },
  {
   "cell_type": "code",
   "execution_count": 3,
   "id": "6720888f",
   "metadata": {
    "execution": {
     "iopub.execute_input": "2022-04-26T03:46:55.524217Z",
     "iopub.status.busy": "2022-04-26T03:46:55.523569Z",
     "iopub.status.idle": "2022-04-26T03:46:55.547351Z",
     "shell.execute_reply": "2022-04-26T03:46:55.548132Z",
     "shell.execute_reply.started": "2022-04-26T03:38:34.173239Z"
    },
    "papermill": {
     "duration": 0.066812,
     "end_time": "2022-04-26T03:46:55.548368",
     "exception": false,
     "start_time": "2022-04-26T03:46:55.481556",
     "status": "completed"
    },
    "tags": []
   },
   "outputs": [
    {
     "name": "stdout",
     "output_type": "stream",
     "text": [
      "The shape of the  data is (row, column):(1338, 7)\n",
      "<class 'pandas.core.frame.DataFrame'>\n",
      "RangeIndex: 1338 entries, 0 to 1337\n",
      "Data columns (total 7 columns):\n",
      " #   Column    Non-Null Count  Dtype  \n",
      "---  ------    --------------  -----  \n",
      " 0   age       1338 non-null   int64  \n",
      " 1   sex       1338 non-null   object \n",
      " 2   bmi       1338 non-null   float64\n",
      " 3   children  1338 non-null   int64  \n",
      " 4   smoker    1338 non-null   object \n",
      " 5   region    1338 non-null   object \n",
      " 6   charges   1338 non-null   float64\n",
      "dtypes: float64(2), int64(2), object(3)\n",
      "memory usage: 73.3+ KB\n",
      "None\n"
     ]
    }
   ],
   "source": [
    "print (\"The shape of the  data is (row, column):\"+ str(insurance_copy.shape))\n",
    "print (insurance_copy.info())"
   ]
  },
  {
   "cell_type": "code",
   "execution_count": 4,
   "id": "4edb2c10",
   "metadata": {
    "execution": {
     "iopub.execute_input": "2022-04-26T03:46:55.629040Z",
     "iopub.status.busy": "2022-04-26T03:46:55.628443Z",
     "iopub.status.idle": "2022-04-26T03:46:55.631625Z",
     "shell.execute_reply": "2022-04-26T03:46:55.632201Z",
     "shell.execute_reply.started": "2022-04-26T03:38:34.200638Z"
    },
    "papermill": {
     "duration": 0.043865,
     "end_time": "2022-04-26T03:46:55.632355",
     "exception": false,
     "start_time": "2022-04-26T03:46:55.588490",
     "status": "completed"
    },
    "tags": []
   },
   "outputs": [],
   "source": [
    "df = insurance_copy"
   ]
  },
  {
   "cell_type": "code",
   "execution_count": 5,
   "id": "05494873",
   "metadata": {
    "execution": {
     "iopub.execute_input": "2022-04-26T03:46:55.711220Z",
     "iopub.status.busy": "2022-04-26T03:46:55.710594Z",
     "iopub.status.idle": "2022-04-26T03:46:55.718956Z",
     "shell.execute_reply": "2022-04-26T03:46:55.719592Z",
     "shell.execute_reply.started": "2022-04-26T03:38:34.21069Z"
    },
    "papermill": {
     "duration": 0.049225,
     "end_time": "2022-04-26T03:46:55.719756",
     "exception": false,
     "start_time": "2022-04-26T03:46:55.670531",
     "status": "completed"
    },
    "tags": []
   },
   "outputs": [],
   "source": [
    "insurance_csv = ('../input/insurance/insurance.csv')\n",
    "insurance = pd.read_csv('../input/insurance/insurance.csv')"
   ]
  },
  {
   "cell_type": "code",
   "execution_count": 6,
   "id": "d67d0055",
   "metadata": {
    "execution": {
     "iopub.execute_input": "2022-04-26T03:46:55.799426Z",
     "iopub.status.busy": "2022-04-26T03:46:55.798753Z",
     "iopub.status.idle": "2022-04-26T03:46:55.815127Z",
     "shell.execute_reply": "2022-04-26T03:46:55.815712Z",
     "shell.execute_reply.started": "2022-04-26T03:38:34.224727Z"
    },
    "papermill": {
     "duration": 0.057991,
     "end_time": "2022-04-26T03:46:55.815860",
     "exception": false,
     "start_time": "2022-04-26T03:46:55.757869",
     "status": "completed"
    },
    "tags": []
   },
   "outputs": [
    {
     "data": {
      "text/html": [
       "<div>\n",
       "<style scoped>\n",
       "    .dataframe tbody tr th:only-of-type {\n",
       "        vertical-align: middle;\n",
       "    }\n",
       "\n",
       "    .dataframe tbody tr th {\n",
       "        vertical-align: top;\n",
       "    }\n",
       "\n",
       "    .dataframe thead th {\n",
       "        text-align: right;\n",
       "    }\n",
       "</style>\n",
       "<table border=\"1\" class=\"dataframe\">\n",
       "  <thead>\n",
       "    <tr style=\"text-align: right;\">\n",
       "      <th></th>\n",
       "      <th>age</th>\n",
       "      <th>sex</th>\n",
       "      <th>bmi</th>\n",
       "      <th>children</th>\n",
       "      <th>smoker</th>\n",
       "      <th>region</th>\n",
       "      <th>charges</th>\n",
       "    </tr>\n",
       "  </thead>\n",
       "  <tbody>\n",
       "    <tr>\n",
       "      <th>0</th>\n",
       "      <td>19</td>\n",
       "      <td>female</td>\n",
       "      <td>27.900</td>\n",
       "      <td>0</td>\n",
       "      <td>yes</td>\n",
       "      <td>southwest</td>\n",
       "      <td>16884.92400</td>\n",
       "    </tr>\n",
       "    <tr>\n",
       "      <th>1</th>\n",
       "      <td>18</td>\n",
       "      <td>male</td>\n",
       "      <td>33.770</td>\n",
       "      <td>1</td>\n",
       "      <td>no</td>\n",
       "      <td>southeast</td>\n",
       "      <td>1725.55230</td>\n",
       "    </tr>\n",
       "    <tr>\n",
       "      <th>2</th>\n",
       "      <td>28</td>\n",
       "      <td>male</td>\n",
       "      <td>33.000</td>\n",
       "      <td>3</td>\n",
       "      <td>no</td>\n",
       "      <td>southeast</td>\n",
       "      <td>4449.46200</td>\n",
       "    </tr>\n",
       "    <tr>\n",
       "      <th>3</th>\n",
       "      <td>33</td>\n",
       "      <td>male</td>\n",
       "      <td>22.705</td>\n",
       "      <td>0</td>\n",
       "      <td>no</td>\n",
       "      <td>northwest</td>\n",
       "      <td>21984.47061</td>\n",
       "    </tr>\n",
       "    <tr>\n",
       "      <th>4</th>\n",
       "      <td>32</td>\n",
       "      <td>male</td>\n",
       "      <td>28.880</td>\n",
       "      <td>0</td>\n",
       "      <td>no</td>\n",
       "      <td>northwest</td>\n",
       "      <td>3866.85520</td>\n",
       "    </tr>\n",
       "  </tbody>\n",
       "</table>\n",
       "</div>"
      ],
      "text/plain": [
       "   age     sex     bmi  children smoker     region      charges\n",
       "0   19  female  27.900         0    yes  southwest  16884.92400\n",
       "1   18    male  33.770         1     no  southeast   1725.55230\n",
       "2   28    male  33.000         3     no  southeast   4449.46200\n",
       "3   33    male  22.705         0     no  northwest  21984.47061\n",
       "4   32    male  28.880         0     no  northwest   3866.85520"
      ]
     },
     "execution_count": 6,
     "metadata": {},
     "output_type": "execute_result"
    }
   ],
   "source": [
    "df.head()"
   ]
  },
  {
   "cell_type": "code",
   "execution_count": 7,
   "id": "da4130f1",
   "metadata": {
    "execution": {
     "iopub.execute_input": "2022-04-26T03:46:55.895773Z",
     "iopub.status.busy": "2022-04-26T03:46:55.895197Z",
     "iopub.status.idle": "2022-04-26T03:46:55.905934Z",
     "shell.execute_reply": "2022-04-26T03:46:55.906546Z",
     "shell.execute_reply.started": "2022-04-26T03:38:34.244635Z"
    },
    "papermill": {
     "duration": 0.05228,
     "end_time": "2022-04-26T03:46:55.906707",
     "exception": false,
     "start_time": "2022-04-26T03:46:55.854427",
     "status": "completed"
    },
    "tags": []
   },
   "outputs": [
    {
     "data": {
      "text/html": [
       "<div>\n",
       "<style scoped>\n",
       "    .dataframe tbody tr th:only-of-type {\n",
       "        vertical-align: middle;\n",
       "    }\n",
       "\n",
       "    .dataframe tbody tr th {\n",
       "        vertical-align: top;\n",
       "    }\n",
       "\n",
       "    .dataframe thead th {\n",
       "        text-align: right;\n",
       "    }\n",
       "</style>\n",
       "<table border=\"1\" class=\"dataframe\">\n",
       "  <thead>\n",
       "    <tr style=\"text-align: right;\">\n",
       "      <th></th>\n",
       "      <th>age</th>\n",
       "      <th>sex</th>\n",
       "      <th>bmi</th>\n",
       "      <th>children</th>\n",
       "      <th>smoker</th>\n",
       "      <th>region</th>\n",
       "      <th>charges</th>\n",
       "    </tr>\n",
       "  </thead>\n",
       "  <tbody>\n",
       "    <tr>\n",
       "      <th>1333</th>\n",
       "      <td>50</td>\n",
       "      <td>male</td>\n",
       "      <td>30.97</td>\n",
       "      <td>3</td>\n",
       "      <td>no</td>\n",
       "      <td>northwest</td>\n",
       "      <td>10600.5483</td>\n",
       "    </tr>\n",
       "    <tr>\n",
       "      <th>1334</th>\n",
       "      <td>18</td>\n",
       "      <td>female</td>\n",
       "      <td>31.92</td>\n",
       "      <td>0</td>\n",
       "      <td>no</td>\n",
       "      <td>northeast</td>\n",
       "      <td>2205.9808</td>\n",
       "    </tr>\n",
       "    <tr>\n",
       "      <th>1335</th>\n",
       "      <td>18</td>\n",
       "      <td>female</td>\n",
       "      <td>36.85</td>\n",
       "      <td>0</td>\n",
       "      <td>no</td>\n",
       "      <td>southeast</td>\n",
       "      <td>1629.8335</td>\n",
       "    </tr>\n",
       "    <tr>\n",
       "      <th>1336</th>\n",
       "      <td>21</td>\n",
       "      <td>female</td>\n",
       "      <td>25.80</td>\n",
       "      <td>0</td>\n",
       "      <td>no</td>\n",
       "      <td>southwest</td>\n",
       "      <td>2007.9450</td>\n",
       "    </tr>\n",
       "    <tr>\n",
       "      <th>1337</th>\n",
       "      <td>61</td>\n",
       "      <td>female</td>\n",
       "      <td>29.07</td>\n",
       "      <td>0</td>\n",
       "      <td>yes</td>\n",
       "      <td>northwest</td>\n",
       "      <td>29141.3603</td>\n",
       "    </tr>\n",
       "  </tbody>\n",
       "</table>\n",
       "</div>"
      ],
      "text/plain": [
       "      age     sex    bmi  children smoker     region     charges\n",
       "1333   50    male  30.97         3     no  northwest  10600.5483\n",
       "1334   18  female  31.92         0     no  northeast   2205.9808\n",
       "1335   18  female  36.85         0     no  southeast   1629.8335\n",
       "1336   21  female  25.80         0     no  southwest   2007.9450\n",
       "1337   61  female  29.07         0    yes  northwest  29141.3603"
      ]
     },
     "execution_count": 7,
     "metadata": {},
     "output_type": "execute_result"
    }
   ],
   "source": [
    "df.tail()"
   ]
  },
  {
   "cell_type": "code",
   "execution_count": 8,
   "id": "5162aa96",
   "metadata": {
    "execution": {
     "iopub.execute_input": "2022-04-26T03:46:55.989084Z",
     "iopub.status.busy": "2022-04-26T03:46:55.988470Z",
     "iopub.status.idle": "2022-04-26T03:46:55.994541Z",
     "shell.execute_reply": "2022-04-26T03:46:55.995003Z",
     "shell.execute_reply.started": "2022-04-26T03:38:34.25874Z"
    },
    "papermill": {
     "duration": 0.048991,
     "end_time": "2022-04-26T03:46:55.995185",
     "exception": false,
     "start_time": "2022-04-26T03:46:55.946194",
     "status": "completed"
    },
    "tags": []
   },
   "outputs": [
    {
     "data": {
      "text/plain": [
       "age           int64\n",
       "sex          object\n",
       "bmi         float64\n",
       "children      int64\n",
       "smoker       object\n",
       "region       object\n",
       "charges     float64\n",
       "dtype: object"
      ]
     },
     "execution_count": 8,
     "metadata": {},
     "output_type": "execute_result"
    }
   ],
   "source": [
    "insurance_copy.dtypes"
   ]
  },
  {
   "cell_type": "code",
   "execution_count": 9,
   "id": "12856b19",
   "metadata": {
    "execution": {
     "iopub.execute_input": "2022-04-26T03:46:56.079098Z",
     "iopub.status.busy": "2022-04-26T03:46:56.078197Z",
     "iopub.status.idle": "2022-04-26T03:46:56.100639Z",
     "shell.execute_reply": "2022-04-26T03:46:56.101134Z",
     "shell.execute_reply.started": "2022-04-26T03:38:34.271647Z"
    },
    "papermill": {
     "duration": 0.066442,
     "end_time": "2022-04-26T03:46:56.101343",
     "exception": false,
     "start_time": "2022-04-26T03:46:56.034901",
     "status": "completed"
    },
    "tags": []
   },
   "outputs": [
    {
     "data": {
      "text/html": [
       "<div>\n",
       "<style scoped>\n",
       "    .dataframe tbody tr th:only-of-type {\n",
       "        vertical-align: middle;\n",
       "    }\n",
       "\n",
       "    .dataframe tbody tr th {\n",
       "        vertical-align: top;\n",
       "    }\n",
       "\n",
       "    .dataframe thead th {\n",
       "        text-align: right;\n",
       "    }\n",
       "</style>\n",
       "<table border=\"1\" class=\"dataframe\">\n",
       "  <thead>\n",
       "    <tr style=\"text-align: right;\">\n",
       "      <th></th>\n",
       "      <th>age</th>\n",
       "      <th>bmi</th>\n",
       "      <th>children</th>\n",
       "      <th>charges</th>\n",
       "    </tr>\n",
       "  </thead>\n",
       "  <tbody>\n",
       "    <tr>\n",
       "      <th>count</th>\n",
       "      <td>1338.000000</td>\n",
       "      <td>1338.000000</td>\n",
       "      <td>1338.000000</td>\n",
       "      <td>1338.000000</td>\n",
       "    </tr>\n",
       "    <tr>\n",
       "      <th>mean</th>\n",
       "      <td>39.207025</td>\n",
       "      <td>30.663397</td>\n",
       "      <td>1.094918</td>\n",
       "      <td>13270.422265</td>\n",
       "    </tr>\n",
       "    <tr>\n",
       "      <th>std</th>\n",
       "      <td>14.049960</td>\n",
       "      <td>6.098187</td>\n",
       "      <td>1.205493</td>\n",
       "      <td>12110.011237</td>\n",
       "    </tr>\n",
       "    <tr>\n",
       "      <th>min</th>\n",
       "      <td>18.000000</td>\n",
       "      <td>15.960000</td>\n",
       "      <td>0.000000</td>\n",
       "      <td>1121.873900</td>\n",
       "    </tr>\n",
       "    <tr>\n",
       "      <th>25%</th>\n",
       "      <td>27.000000</td>\n",
       "      <td>26.296250</td>\n",
       "      <td>0.000000</td>\n",
       "      <td>4740.287150</td>\n",
       "    </tr>\n",
       "    <tr>\n",
       "      <th>50%</th>\n",
       "      <td>39.000000</td>\n",
       "      <td>30.400000</td>\n",
       "      <td>1.000000</td>\n",
       "      <td>9382.033000</td>\n",
       "    </tr>\n",
       "    <tr>\n",
       "      <th>75%</th>\n",
       "      <td>51.000000</td>\n",
       "      <td>34.693750</td>\n",
       "      <td>2.000000</td>\n",
       "      <td>16639.912515</td>\n",
       "    </tr>\n",
       "    <tr>\n",
       "      <th>max</th>\n",
       "      <td>64.000000</td>\n",
       "      <td>53.130000</td>\n",
       "      <td>5.000000</td>\n",
       "      <td>63770.428010</td>\n",
       "    </tr>\n",
       "  </tbody>\n",
       "</table>\n",
       "</div>"
      ],
      "text/plain": [
       "               age          bmi     children       charges\n",
       "count  1338.000000  1338.000000  1338.000000   1338.000000\n",
       "mean     39.207025    30.663397     1.094918  13270.422265\n",
       "std      14.049960     6.098187     1.205493  12110.011237\n",
       "min      18.000000    15.960000     0.000000   1121.873900\n",
       "25%      27.000000    26.296250     0.000000   4740.287150\n",
       "50%      39.000000    30.400000     1.000000   9382.033000\n",
       "75%      51.000000    34.693750     2.000000  16639.912515\n",
       "max      64.000000    53.130000     5.000000  63770.428010"
      ]
     },
     "execution_count": 9,
     "metadata": {},
     "output_type": "execute_result"
    }
   ],
   "source": [
    "#Checking out the statistical parameters\n",
    "insurance_copy.describe()"
   ]
  },
  {
   "cell_type": "code",
   "execution_count": 10,
   "id": "cb0db84f",
   "metadata": {
    "execution": {
     "iopub.execute_input": "2022-04-26T03:46:56.183740Z",
     "iopub.status.busy": "2022-04-26T03:46:56.182839Z",
     "iopub.status.idle": "2022-04-26T03:46:56.203976Z",
     "shell.execute_reply": "2022-04-26T03:46:56.204637Z",
     "shell.execute_reply.started": "2022-04-26T03:38:34.302528Z"
    },
    "papermill": {
     "duration": 0.063939,
     "end_time": "2022-04-26T03:46:56.204860",
     "exception": false,
     "start_time": "2022-04-26T03:46:56.140921",
     "status": "completed"
    },
    "tags": []
   },
   "outputs": [
    {
     "name": "stdout",
     "output_type": "stream",
     "text": [
      "sex: male      676\n",
      "female    662\n",
      "Name: sex, dtype: int64\n",
      "----------------------------------------\n",
      "smoker: no     1064\n",
      "yes     274\n",
      "Name: smoker, dtype: int64\n",
      "----------------------------------------\n",
      "age: 18    69\n",
      "19    68\n",
      "50    29\n",
      "51    29\n",
      "47    29\n",
      "46    29\n",
      "45    29\n",
      "20    29\n",
      "48    29\n",
      "52    29\n",
      "22    28\n",
      "49    28\n",
      "54    28\n",
      "53    28\n",
      "21    28\n",
      "26    28\n",
      "24    28\n",
      "25    28\n",
      "28    28\n",
      "27    28\n",
      "23    28\n",
      "43    27\n",
      "29    27\n",
      "30    27\n",
      "41    27\n",
      "42    27\n",
      "44    27\n",
      "31    27\n",
      "40    27\n",
      "32    26\n",
      "33    26\n",
      "56    26\n",
      "34    26\n",
      "55    26\n",
      "57    26\n",
      "37    25\n",
      "59    25\n",
      "58    25\n",
      "36    25\n",
      "38    25\n",
      "35    25\n",
      "39    25\n",
      "61    23\n",
      "60    23\n",
      "63    23\n",
      "62    23\n",
      "64    22\n",
      "Name: age, dtype: int64\n",
      "----------------------------------------\n",
      "bmi: 32.300    13\n",
      "28.310     9\n",
      "30.495     8\n",
      "30.875     8\n",
      "31.350     8\n",
      "          ..\n",
      "46.200     1\n",
      "23.800     1\n",
      "44.770     1\n",
      "32.120     1\n",
      "30.970     1\n",
      "Name: bmi, Length: 548, dtype: int64\n",
      "----------------------------------------\n",
      "children: 0    574\n",
      "1    324\n",
      "2    240\n",
      "3    157\n",
      "4     25\n",
      "5     18\n",
      "Name: children, dtype: int64\n",
      "----------------------------------------\n",
      "charges: 1639.56310     2\n",
      "16884.92400    1\n",
      "29330.98315    1\n",
      "2221.56445     1\n",
      "19798.05455    1\n",
      "              ..\n",
      "7345.08400     1\n",
      "26109.32905    1\n",
      "28287.89766    1\n",
      "1149.39590     1\n",
      "29141.36030    1\n",
      "Name: charges, Length: 1337, dtype: int64\n",
      "----------------------------------------\n"
     ]
    }
   ],
   "source": [
    "#Checking out the categories and their respective counts in each feature\n",
    "print(\"sex:\",insurance_copy.sex.value_counts())\n",
    "print(\"-\"*40)\n",
    "print(\"smoker:\",insurance_copy.smoker.value_counts())\n",
    "print(\"-\"*40)\n",
    "print(\"age:\",insurance_copy.age.value_counts())\n",
    "print(\"-\"*40)\n",
    "print(\"bmi:\",insurance_copy.bmi.value_counts())\n",
    "print(\"-\"*40)\n",
    "print(\"children:\",insurance_copy.children.value_counts())\n",
    "print(\"-\"*40)\n",
    "print(\"charges:\",insurance_copy.charges.value_counts())\n",
    "print(\"-\"*40)"
   ]
  },
  {
   "cell_type": "code",
   "execution_count": 11,
   "id": "2afb1412",
   "metadata": {
    "execution": {
     "iopub.execute_input": "2022-04-26T03:46:56.293573Z",
     "iopub.status.busy": "2022-04-26T03:46:56.288864Z",
     "iopub.status.idle": "2022-04-26T03:46:56.296732Z",
     "shell.execute_reply": "2022-04-26T03:46:56.296089Z",
     "shell.execute_reply.started": "2022-04-26T03:38:34.324684Z"
    },
    "papermill": {
     "duration": 0.050699,
     "end_time": "2022-04-26T03:46:56.296885",
     "exception": false,
     "start_time": "2022-04-26T03:46:56.246186",
     "status": "completed"
    },
    "tags": []
   },
   "outputs": [
    {
     "name": "stdout",
     "output_type": "stream",
     "text": [
      "Data columns with null values: age         0\n",
      "sex         0\n",
      "bmi         0\n",
      "children    0\n",
      "smoker      0\n",
      "region      0\n",
      "charges     0\n",
      "dtype: int64\n"
     ]
    }
   ],
   "source": [
    "#Check for missing values in pandas dataframe using isnull() function\n",
    "print('Data columns with null values:',insurance_copy.isnull().sum())"
   ]
  },
  {
   "cell_type": "code",
   "execution_count": 12,
   "id": "1f3c6efe",
   "metadata": {
    "execution": {
     "iopub.execute_input": "2022-04-26T03:46:56.386472Z",
     "iopub.status.busy": "2022-04-26T03:46:56.385586Z",
     "iopub.status.idle": "2022-04-26T03:46:56.388821Z",
     "shell.execute_reply": "2022-04-26T03:46:56.389377Z",
     "shell.execute_reply.started": "2022-04-26T03:38:34.333031Z"
    },
    "papermill": {
     "duration": 0.052688,
     "end_time": "2022-04-26T03:46:56.389537",
     "exception": false,
     "start_time": "2022-04-26T03:46:56.336849",
     "status": "completed"
    },
    "tags": []
   },
   "outputs": [
    {
     "data": {
      "text/plain": [
       "age         False\n",
       "sex         False\n",
       "bmi         False\n",
       "children    False\n",
       "smoker      False\n",
       "region      False\n",
       "charges     False\n",
       "dtype: bool"
      ]
     },
     "execution_count": 12,
     "metadata": {},
     "output_type": "execute_result"
    }
   ],
   "source": [
    "#Check for missing values in pandas dataframe using isna() function\n",
    "df.isna().any()"
   ]
  },
  {
   "cell_type": "code",
   "execution_count": 13,
   "id": "c46dca76",
   "metadata": {
    "execution": {
     "iopub.execute_input": "2022-04-26T03:46:56.476957Z",
     "iopub.status.busy": "2022-04-26T03:46:56.476063Z",
     "iopub.status.idle": "2022-04-26T03:46:56.484498Z",
     "shell.execute_reply": "2022-04-26T03:46:56.485070Z",
     "shell.execute_reply.started": "2022-04-26T03:38:34.34828Z"
    },
    "papermill": {
     "duration": 0.052883,
     "end_time": "2022-04-26T03:46:56.485246",
     "exception": false,
     "start_time": "2022-04-26T03:46:56.432363",
     "status": "completed"
    },
    "tags": []
   },
   "outputs": [
    {
     "data": {
      "text/plain": [
       "0       False\n",
       "1       False\n",
       "2       False\n",
       "3       False\n",
       "4       False\n",
       "        ...  \n",
       "1333    False\n",
       "1334    False\n",
       "1335    False\n",
       "1336    False\n",
       "1337    False\n",
       "Length: 1338, dtype: bool"
      ]
     },
     "execution_count": 13,
     "metadata": {},
     "output_type": "execute_result"
    }
   ],
   "source": [
    "#Check for duplicate values, It returns a boolean series which is True only for Unique elements\n",
    "df.duplicated()"
   ]
  },
  {
   "cell_type": "code",
   "execution_count": 14,
   "id": "8a585a52",
   "metadata": {
    "execution": {
     "iopub.execute_input": "2022-04-26T03:46:56.571057Z",
     "iopub.status.busy": "2022-04-26T03:46:56.570484Z",
     "iopub.status.idle": "2022-04-26T03:46:56.577621Z",
     "shell.execute_reply": "2022-04-26T03:46:56.578136Z",
     "shell.execute_reply.started": "2022-04-26T03:38:34.365088Z"
    },
    "papermill": {
     "duration": 0.051443,
     "end_time": "2022-04-26T03:46:56.578334",
     "exception": false,
     "start_time": "2022-04-26T03:46:56.526891",
     "status": "completed"
    },
    "tags": []
   },
   "outputs": [
    {
     "data": {
      "text/plain": [
       "1"
      ]
     },
     "execution_count": 14,
     "metadata": {},
     "output_type": "execute_result"
    }
   ],
   "source": [
    "#Check how many rows have duplicate values\n",
    "df.duplicated().sum()"
   ]
  },
  {
   "cell_type": "code",
   "execution_count": 15,
   "id": "2130625e",
   "metadata": {
    "execution": {
     "iopub.execute_input": "2022-04-26T03:46:56.666486Z",
     "iopub.status.busy": "2022-04-26T03:46:56.665837Z",
     "iopub.status.idle": "2022-04-26T03:46:56.679911Z",
     "shell.execute_reply": "2022-04-26T03:46:56.679380Z",
     "shell.execute_reply.started": "2022-04-26T03:38:34.375146Z"
    },
    "papermill": {
     "duration": 0.05928,
     "end_time": "2022-04-26T03:46:56.680046",
     "exception": false,
     "start_time": "2022-04-26T03:46:56.620766",
     "status": "completed"
    },
    "tags": []
   },
   "outputs": [
    {
     "data": {
      "text/html": [
       "<div>\n",
       "<style scoped>\n",
       "    .dataframe tbody tr th:only-of-type {\n",
       "        vertical-align: middle;\n",
       "    }\n",
       "\n",
       "    .dataframe tbody tr th {\n",
       "        vertical-align: top;\n",
       "    }\n",
       "\n",
       "    .dataframe thead th {\n",
       "        text-align: right;\n",
       "    }\n",
       "</style>\n",
       "<table border=\"1\" class=\"dataframe\">\n",
       "  <thead>\n",
       "    <tr style=\"text-align: right;\">\n",
       "      <th></th>\n",
       "      <th>age</th>\n",
       "      <th>sex</th>\n",
       "      <th>bmi</th>\n",
       "      <th>children</th>\n",
       "      <th>smoker</th>\n",
       "      <th>region</th>\n",
       "      <th>charges</th>\n",
       "    </tr>\n",
       "  </thead>\n",
       "  <tbody>\n",
       "    <tr>\n",
       "      <th>195</th>\n",
       "      <td>19</td>\n",
       "      <td>male</td>\n",
       "      <td>30.59</td>\n",
       "      <td>0</td>\n",
       "      <td>no</td>\n",
       "      <td>northwest</td>\n",
       "      <td>1639.5631</td>\n",
       "    </tr>\n",
       "    <tr>\n",
       "      <th>581</th>\n",
       "      <td>19</td>\n",
       "      <td>male</td>\n",
       "      <td>30.59</td>\n",
       "      <td>0</td>\n",
       "      <td>no</td>\n",
       "      <td>northwest</td>\n",
       "      <td>1639.5631</td>\n",
       "    </tr>\n",
       "  </tbody>\n",
       "</table>\n",
       "</div>"
      ],
      "text/plain": [
       "     age   sex    bmi  children smoker     region    charges\n",
       "195   19  male  30.59         0     no  northwest  1639.5631\n",
       "581   19  male  30.59         0     no  northwest  1639.5631"
      ]
     },
     "execution_count": 15,
     "metadata": {},
     "output_type": "execute_result"
    }
   ],
   "source": [
    "# Extract duplicate rows\n",
    "df.loc[df.duplicated(keep=False), :]"
   ]
  },
  {
   "cell_type": "code",
   "execution_count": 16,
   "id": "bb7efeda",
   "metadata": {
    "execution": {
     "iopub.execute_input": "2022-04-26T03:46:56.768127Z",
     "iopub.status.busy": "2022-04-26T03:46:56.767509Z",
     "iopub.status.idle": "2022-04-26T03:46:56.773877Z",
     "shell.execute_reply": "2022-04-26T03:46:56.773346Z",
     "shell.execute_reply.started": "2022-04-26T03:38:34.395635Z"
    },
    "papermill": {
     "duration": 0.051482,
     "end_time": "2022-04-26T03:46:56.774007",
     "exception": false,
     "start_time": "2022-04-26T03:46:56.722525",
     "status": "completed"
    },
    "tags": []
   },
   "outputs": [],
   "source": [
    "# Remove duplicate row\n",
    "df.drop_duplicates(inplace=True)"
   ]
  },
  {
   "cell_type": "code",
   "execution_count": 17,
   "id": "44ea60cc",
   "metadata": {
    "execution": {
     "iopub.execute_input": "2022-04-26T03:46:56.864049Z",
     "iopub.status.busy": "2022-04-26T03:46:56.863419Z",
     "iopub.status.idle": "2022-04-26T03:46:56.872865Z",
     "shell.execute_reply": "2022-04-26T03:46:56.873492Z",
     "shell.execute_reply.started": "2022-04-26T03:38:34.405932Z"
    },
    "papermill": {
     "duration": 0.057168,
     "end_time": "2022-04-26T03:46:56.873716",
     "exception": false,
     "start_time": "2022-04-26T03:46:56.816548",
     "status": "completed"
    },
    "tags": []
   },
   "outputs": [
    {
     "name": "stdout",
     "output_type": "stream",
     "text": [
      "<class 'pandas.core.frame.DataFrame'>\n",
      "Int64Index: 1337 entries, 0 to 1337\n",
      "Data columns (total 7 columns):\n",
      " #   Column    Non-Null Count  Dtype  \n",
      "---  ------    --------------  -----  \n",
      " 0   age       1337 non-null   int64  \n",
      " 1   sex       1337 non-null   object \n",
      " 2   bmi       1337 non-null   float64\n",
      " 3   children  1337 non-null   int64  \n",
      " 4   smoker    1337 non-null   object \n",
      " 5   region    1337 non-null   object \n",
      " 6   charges   1337 non-null   float64\n",
      "dtypes: float64(2), int64(2), object(3)\n",
      "memory usage: 83.6+ KB\n"
     ]
    }
   ],
   "source": [
    "#Prints information about the DataFrame.\n",
    "#The information contains the number of columns, column labels, column data types, memory usage, range index, and the number of cells in each column (non-null values).\n",
    "df.info()"
   ]
  },
  {
   "cell_type": "code",
   "execution_count": 18,
   "id": "bcce856a",
   "metadata": {
    "execution": {
     "iopub.execute_input": "2022-04-26T03:46:56.964015Z",
     "iopub.status.busy": "2022-04-26T03:46:56.963405Z",
     "iopub.status.idle": "2022-04-26T03:46:56.969643Z",
     "shell.execute_reply": "2022-04-26T03:46:56.970106Z",
     "shell.execute_reply.started": "2022-04-26T03:38:34.425313Z"
    },
    "papermill": {
     "duration": 0.052404,
     "end_time": "2022-04-26T03:46:56.970283",
     "exception": false,
     "start_time": "2022-04-26T03:46:56.917879",
     "status": "completed"
    },
    "tags": []
   },
   "outputs": [
    {
     "data": {
      "text/plain": [
       "0       False\n",
       "1        True\n",
       "2        True\n",
       "3        True\n",
       "4        True\n",
       "        ...  \n",
       "1333     True\n",
       "1334    False\n",
       "1335    False\n",
       "1336    False\n",
       "1337    False\n",
       "Name: sex, Length: 1337, dtype: bool"
      ]
     },
     "execution_count": 18,
     "metadata": {},
     "output_type": "execute_result"
    }
   ],
   "source": [
    "#Transform sex=male. It returns a boolean series and set it as 'True', else 'False'\n",
    "df['sex'] == 'male'"
   ]
  },
  {
   "cell_type": "code",
   "execution_count": 19,
   "id": "91198769",
   "metadata": {
    "execution": {
     "iopub.execute_input": "2022-04-26T03:46:57.060761Z",
     "iopub.status.busy": "2022-04-26T03:46:57.060060Z",
     "iopub.status.idle": "2022-04-26T03:46:57.066375Z",
     "shell.execute_reply": "2022-04-26T03:46:57.066882Z",
     "shell.execute_reply.started": "2022-04-26T03:38:34.43448Z"
    },
    "papermill": {
     "duration": 0.052795,
     "end_time": "2022-04-26T03:46:57.067040",
     "exception": false,
     "start_time": "2022-04-26T03:46:57.014245",
     "status": "completed"
    },
    "tags": []
   },
   "outputs": [
    {
     "data": {
      "text/plain": [
       "0       0\n",
       "1       1\n",
       "2       1\n",
       "3       1\n",
       "4       1\n",
       "       ..\n",
       "1333    1\n",
       "1334    0\n",
       "1335    0\n",
       "1336    0\n",
       "1337    0\n",
       "Name: sex, Length: 1337, dtype: int64"
      ]
     },
     "execution_count": 19,
     "metadata": {},
     "output_type": "execute_result"
    }
   ],
   "source": [
    "#Transform sex=male. It returns a value as '1' if True, else '0' if False\n",
    "(df['sex'] == 'male').astype(int)"
   ]
  },
  {
   "cell_type": "code",
   "execution_count": 20,
   "id": "3f525aef",
   "metadata": {
    "execution": {
     "iopub.execute_input": "2022-04-26T03:46:57.157546Z",
     "iopub.status.busy": "2022-04-26T03:46:57.156918Z",
     "iopub.status.idle": "2022-04-26T03:46:57.160967Z",
     "shell.execute_reply": "2022-04-26T03:46:57.161460Z",
     "shell.execute_reply.started": "2022-04-26T03:38:34.450815Z"
    },
    "papermill": {
     "duration": 0.050627,
     "end_time": "2022-04-26T03:46:57.161616",
     "exception": false,
     "start_time": "2022-04-26T03:46:57.110989",
     "status": "completed"
    },
    "tags": []
   },
   "outputs": [],
   "source": [
    "df['sex'] = (df['sex'] == 'male').astype(int)"
   ]
  },
  {
   "cell_type": "code",
   "execution_count": 21,
   "id": "6b869aec",
   "metadata": {
    "execution": {
     "iopub.execute_input": "2022-04-26T03:46:57.256338Z",
     "iopub.status.busy": "2022-04-26T03:46:57.255549Z",
     "iopub.status.idle": "2022-04-26T03:46:57.258723Z",
     "shell.execute_reply": "2022-04-26T03:46:57.259216Z",
     "shell.execute_reply.started": "2022-04-26T03:38:34.462911Z"
    },
    "papermill": {
     "duration": 0.054126,
     "end_time": "2022-04-26T03:46:57.259411",
     "exception": false,
     "start_time": "2022-04-26T03:46:57.205285",
     "status": "completed"
    },
    "tags": []
   },
   "outputs": [
    {
     "data": {
      "text/plain": [
       "0        True\n",
       "1       False\n",
       "2       False\n",
       "3       False\n",
       "4       False\n",
       "        ...  \n",
       "1333    False\n",
       "1334    False\n",
       "1335    False\n",
       "1336    False\n",
       "1337     True\n",
       "Name: smoker, Length: 1337, dtype: bool"
      ]
     },
     "execution_count": 21,
     "metadata": {},
     "output_type": "execute_result"
    }
   ],
   "source": [
    "#Transform smoker=yes. It returns a boolean series and set it as 'True', else 'False'\n",
    "df['smoker'] == 'yes'"
   ]
  },
  {
   "cell_type": "code",
   "execution_count": 22,
   "id": "9bf35bb7",
   "metadata": {
    "execution": {
     "iopub.execute_input": "2022-04-26T03:46:57.355302Z",
     "iopub.status.busy": "2022-04-26T03:46:57.350820Z",
     "iopub.status.idle": "2022-04-26T03:46:57.358985Z",
     "shell.execute_reply": "2022-04-26T03:46:57.358507Z",
     "shell.execute_reply.started": "2022-04-26T03:38:34.476672Z"
    },
    "papermill": {
     "duration": 0.055576,
     "end_time": "2022-04-26T03:46:57.359127",
     "exception": false,
     "start_time": "2022-04-26T03:46:57.303551",
     "status": "completed"
    },
    "tags": []
   },
   "outputs": [
    {
     "data": {
      "text/plain": [
       "0       1\n",
       "1       0\n",
       "2       0\n",
       "3       0\n",
       "4       0\n",
       "       ..\n",
       "1333    0\n",
       "1334    0\n",
       "1335    0\n",
       "1336    0\n",
       "1337    1\n",
       "Name: smoker, Length: 1337, dtype: int64"
      ]
     },
     "execution_count": 22,
     "metadata": {},
     "output_type": "execute_result"
    }
   ],
   "source": [
    "#Transform smoker=yes. It returns a value as '1' if True, else '0' if False\n",
    "(df['smoker'] == 'yes').astype(int)"
   ]
  },
  {
   "cell_type": "code",
   "execution_count": 23,
   "id": "9d649dc8",
   "metadata": {
    "execution": {
     "iopub.execute_input": "2022-04-26T03:46:57.455719Z",
     "iopub.status.busy": "2022-04-26T03:46:57.455057Z",
     "iopub.status.idle": "2022-04-26T03:46:57.457437Z",
     "shell.execute_reply": "2022-04-26T03:46:57.457871Z",
     "shell.execute_reply.started": "2022-04-26T03:38:34.489125Z"
    },
    "papermill": {
     "duration": 0.05271,
     "end_time": "2022-04-26T03:46:57.458089",
     "exception": false,
     "start_time": "2022-04-26T03:46:57.405379",
     "status": "completed"
    },
    "tags": []
   },
   "outputs": [],
   "source": [
    "df['smoker'] = (df['smoker'] == 'yes').astype(int)"
   ]
  },
  {
   "cell_type": "code",
   "execution_count": 24,
   "id": "877206f3",
   "metadata": {
    "execution": {
     "iopub.execute_input": "2022-04-26T03:46:57.550748Z",
     "iopub.status.busy": "2022-04-26T03:46:57.550149Z",
     "iopub.status.idle": "2022-04-26T03:46:57.561687Z",
     "shell.execute_reply": "2022-04-26T03:46:57.562271Z",
     "shell.execute_reply.started": "2022-04-26T03:38:34.497253Z"
    },
    "papermill": {
     "duration": 0.059151,
     "end_time": "2022-04-26T03:46:57.562433",
     "exception": false,
     "start_time": "2022-04-26T03:46:57.503282",
     "status": "completed"
    },
    "tags": []
   },
   "outputs": [
    {
     "data": {
      "text/html": [
       "<div>\n",
       "<style scoped>\n",
       "    .dataframe tbody tr th:only-of-type {\n",
       "        vertical-align: middle;\n",
       "    }\n",
       "\n",
       "    .dataframe tbody tr th {\n",
       "        vertical-align: top;\n",
       "    }\n",
       "\n",
       "    .dataframe thead th {\n",
       "        text-align: right;\n",
       "    }\n",
       "</style>\n",
       "<table border=\"1\" class=\"dataframe\">\n",
       "  <thead>\n",
       "    <tr style=\"text-align: right;\">\n",
       "      <th></th>\n",
       "      <th>age</th>\n",
       "      <th>sex</th>\n",
       "      <th>bmi</th>\n",
       "      <th>children</th>\n",
       "      <th>smoker</th>\n",
       "      <th>region</th>\n",
       "      <th>charges</th>\n",
       "    </tr>\n",
       "  </thead>\n",
       "  <tbody>\n",
       "    <tr>\n",
       "      <th>0</th>\n",
       "      <td>19</td>\n",
       "      <td>0</td>\n",
       "      <td>27.900</td>\n",
       "      <td>0</td>\n",
       "      <td>1</td>\n",
       "      <td>southwest</td>\n",
       "      <td>16884.92400</td>\n",
       "    </tr>\n",
       "    <tr>\n",
       "      <th>1</th>\n",
       "      <td>18</td>\n",
       "      <td>1</td>\n",
       "      <td>33.770</td>\n",
       "      <td>1</td>\n",
       "      <td>0</td>\n",
       "      <td>southeast</td>\n",
       "      <td>1725.55230</td>\n",
       "    </tr>\n",
       "    <tr>\n",
       "      <th>2</th>\n",
       "      <td>28</td>\n",
       "      <td>1</td>\n",
       "      <td>33.000</td>\n",
       "      <td>3</td>\n",
       "      <td>0</td>\n",
       "      <td>southeast</td>\n",
       "      <td>4449.46200</td>\n",
       "    </tr>\n",
       "    <tr>\n",
       "      <th>3</th>\n",
       "      <td>33</td>\n",
       "      <td>1</td>\n",
       "      <td>22.705</td>\n",
       "      <td>0</td>\n",
       "      <td>0</td>\n",
       "      <td>northwest</td>\n",
       "      <td>21984.47061</td>\n",
       "    </tr>\n",
       "    <tr>\n",
       "      <th>4</th>\n",
       "      <td>32</td>\n",
       "      <td>1</td>\n",
       "      <td>28.880</td>\n",
       "      <td>0</td>\n",
       "      <td>0</td>\n",
       "      <td>northwest</td>\n",
       "      <td>3866.85520</td>\n",
       "    </tr>\n",
       "  </tbody>\n",
       "</table>\n",
       "</div>"
      ],
      "text/plain": [
       "   age  sex     bmi  children  smoker     region      charges\n",
       "0   19    0  27.900         0       1  southwest  16884.92400\n",
       "1   18    1  33.770         1       0  southeast   1725.55230\n",
       "2   28    1  33.000         3       0  southeast   4449.46200\n",
       "3   33    1  22.705         0       0  northwest  21984.47061\n",
       "4   32    1  28.880         0       0  northwest   3866.85520"
      ]
     },
     "execution_count": 24,
     "metadata": {},
     "output_type": "execute_result"
    }
   ],
   "source": [
    "#Returns the first 5 rows of the dataframe\n",
    "df.head()"
   ]
  },
  {
   "cell_type": "code",
   "execution_count": 25,
   "id": "0badc7c4",
   "metadata": {
    "execution": {
     "iopub.execute_input": "2022-04-26T03:46:57.657281Z",
     "iopub.status.busy": "2022-04-26T03:46:57.656300Z",
     "iopub.status.idle": "2022-04-26T03:46:57.668016Z",
     "shell.execute_reply": "2022-04-26T03:46:57.668663Z",
     "shell.execute_reply.started": "2022-04-26T03:38:34.518318Z"
    },
    "papermill": {
     "duration": 0.061,
     "end_time": "2022-04-26T03:46:57.668828",
     "exception": false,
     "start_time": "2022-04-26T03:46:57.607828",
     "status": "completed"
    },
    "tags": []
   },
   "outputs": [
    {
     "data": {
      "text/html": [
       "<div>\n",
       "<style scoped>\n",
       "    .dataframe tbody tr th:only-of-type {\n",
       "        vertical-align: middle;\n",
       "    }\n",
       "\n",
       "    .dataframe tbody tr th {\n",
       "        vertical-align: top;\n",
       "    }\n",
       "\n",
       "    .dataframe thead th {\n",
       "        text-align: right;\n",
       "    }\n",
       "</style>\n",
       "<table border=\"1\" class=\"dataframe\">\n",
       "  <thead>\n",
       "    <tr style=\"text-align: right;\">\n",
       "      <th></th>\n",
       "      <th>age</th>\n",
       "      <th>sex</th>\n",
       "      <th>bmi</th>\n",
       "      <th>children</th>\n",
       "      <th>smoker</th>\n",
       "      <th>region</th>\n",
       "      <th>charges</th>\n",
       "    </tr>\n",
       "  </thead>\n",
       "  <tbody>\n",
       "    <tr>\n",
       "      <th>1333</th>\n",
       "      <td>50</td>\n",
       "      <td>1</td>\n",
       "      <td>30.97</td>\n",
       "      <td>3</td>\n",
       "      <td>0</td>\n",
       "      <td>northwest</td>\n",
       "      <td>10600.5483</td>\n",
       "    </tr>\n",
       "    <tr>\n",
       "      <th>1334</th>\n",
       "      <td>18</td>\n",
       "      <td>0</td>\n",
       "      <td>31.92</td>\n",
       "      <td>0</td>\n",
       "      <td>0</td>\n",
       "      <td>northeast</td>\n",
       "      <td>2205.9808</td>\n",
       "    </tr>\n",
       "    <tr>\n",
       "      <th>1335</th>\n",
       "      <td>18</td>\n",
       "      <td>0</td>\n",
       "      <td>36.85</td>\n",
       "      <td>0</td>\n",
       "      <td>0</td>\n",
       "      <td>southeast</td>\n",
       "      <td>1629.8335</td>\n",
       "    </tr>\n",
       "    <tr>\n",
       "      <th>1336</th>\n",
       "      <td>21</td>\n",
       "      <td>0</td>\n",
       "      <td>25.80</td>\n",
       "      <td>0</td>\n",
       "      <td>0</td>\n",
       "      <td>southwest</td>\n",
       "      <td>2007.9450</td>\n",
       "    </tr>\n",
       "    <tr>\n",
       "      <th>1337</th>\n",
       "      <td>61</td>\n",
       "      <td>0</td>\n",
       "      <td>29.07</td>\n",
       "      <td>0</td>\n",
       "      <td>1</td>\n",
       "      <td>northwest</td>\n",
       "      <td>29141.3603</td>\n",
       "    </tr>\n",
       "  </tbody>\n",
       "</table>\n",
       "</div>"
      ],
      "text/plain": [
       "      age  sex    bmi  children  smoker     region     charges\n",
       "1333   50    1  30.97         3       0  northwest  10600.5483\n",
       "1334   18    0  31.92         0       0  northeast   2205.9808\n",
       "1335   18    0  36.85         0       0  southeast   1629.8335\n",
       "1336   21    0  25.80         0       0  southwest   2007.9450\n",
       "1337   61    0  29.07         0       1  northwest  29141.3603"
      ]
     },
     "execution_count": 25,
     "metadata": {},
     "output_type": "execute_result"
    }
   ],
   "source": [
    "#Returns the last 5 rows of the dataframe\n",
    "df.tail()"
   ]
  },
  {
   "cell_type": "code",
   "execution_count": 26,
   "id": "72dab12b",
   "metadata": {
    "execution": {
     "iopub.execute_input": "2022-04-26T03:46:57.766090Z",
     "iopub.status.busy": "2022-04-26T03:46:57.765482Z",
     "iopub.status.idle": "2022-04-26T03:46:57.769583Z",
     "shell.execute_reply": "2022-04-26T03:46:57.770055Z",
     "shell.execute_reply.started": "2022-04-26T03:38:34.533266Z"
    },
    "papermill": {
     "duration": 0.054865,
     "end_time": "2022-04-26T03:46:57.770241",
     "exception": false,
     "start_time": "2022-04-26T03:46:57.715376",
     "status": "completed"
    },
    "tags": []
   },
   "outputs": [
    {
     "data": {
      "text/plain": [
       "940"
      ]
     },
     "execution_count": 26,
     "metadata": {},
     "output_type": "execute_result"
    }
   ],
   "source": [
    "#To find which User paid lowest premium\n",
    "df.charges.idxmin()"
   ]
  },
  {
   "cell_type": "code",
   "execution_count": 27,
   "id": "ffcc0c18",
   "metadata": {
    "execution": {
     "iopub.execute_input": "2022-04-26T03:46:57.867371Z",
     "iopub.status.busy": "2022-04-26T03:46:57.866711Z",
     "iopub.status.idle": "2022-04-26T03:46:57.873087Z",
     "shell.execute_reply": "2022-04-26T03:46:57.872561Z",
     "shell.execute_reply.started": "2022-04-26T03:38:34.546635Z"
    },
    "papermill": {
     "duration": 0.057381,
     "end_time": "2022-04-26T03:46:57.873230",
     "exception": false,
     "start_time": "2022-04-26T03:46:57.815849",
     "status": "completed"
    },
    "tags": []
   },
   "outputs": [
    {
     "data": {
      "text/plain": [
       "age                50\n",
       "sex                 0\n",
       "bmi             46.09\n",
       "children            1\n",
       "smoker              0\n",
       "region      southeast\n",
       "charges     9549.5651\n",
       "Name: 941, dtype: object"
      ]
     },
     "execution_count": 27,
     "metadata": {},
     "output_type": "execute_result"
    }
   ],
   "source": [
    "#Retrieve specific rows from Dataframe\n",
    "df.iloc[940]"
   ]
  },
  {
   "cell_type": "code",
   "execution_count": 28,
   "id": "341d50ed",
   "metadata": {
    "execution": {
     "iopub.execute_input": "2022-04-26T03:46:57.972944Z",
     "iopub.status.busy": "2022-04-26T03:46:57.972292Z",
     "iopub.status.idle": "2022-04-26T03:46:57.975402Z",
     "shell.execute_reply": "2022-04-26T03:46:57.975834Z",
     "shell.execute_reply.started": "2022-04-26T03:38:34.559558Z"
    },
    "papermill": {
     "duration": 0.055489,
     "end_time": "2022-04-26T03:46:57.976003",
     "exception": false,
     "start_time": "2022-04-26T03:46:57.920514",
     "status": "completed"
    },
    "tags": []
   },
   "outputs": [
    {
     "data": {
      "text/plain": [
       "543"
      ]
     },
     "execution_count": 28,
     "metadata": {},
     "output_type": "execute_result"
    }
   ],
   "source": [
    "#Returns index of first occurrence of maximum over requested axis.\n",
    "df.charges.idxmax()"
   ]
  },
  {
   "cell_type": "code",
   "execution_count": 29,
   "id": "d1342773",
   "metadata": {
    "execution": {
     "iopub.execute_input": "2022-04-26T03:46:58.078200Z",
     "iopub.status.busy": "2022-04-26T03:46:58.077562Z",
     "iopub.status.idle": "2022-04-26T03:46:58.081745Z",
     "shell.execute_reply": "2022-04-26T03:46:58.081156Z",
     "shell.execute_reply.started": "2022-04-26T03:38:34.568836Z"
    },
    "papermill": {
     "duration": 0.057513,
     "end_time": "2022-04-26T03:46:58.081875",
     "exception": false,
     "start_time": "2022-04-26T03:46:58.024362",
     "status": "completed"
    },
    "tags": []
   },
   "outputs": [
    {
     "data": {
      "text/plain": [
       "age                  54\n",
       "sex                   0\n",
       "bmi               47.41\n",
       "children              0\n",
       "smoker                1\n",
       "region        southeast\n",
       "charges     63770.42801\n",
       "Name: 543, dtype: object"
      ]
     },
     "execution_count": 29,
     "metadata": {},
     "output_type": "execute_result"
    }
   ],
   "source": [
    "#Retrieve specific rows from Dataframe\n",
    "df.iloc[543]"
   ]
  },
  {
   "cell_type": "code",
   "execution_count": 30,
   "id": "c6d1c215",
   "metadata": {
    "execution": {
     "iopub.execute_input": "2022-04-26T03:46:58.186232Z",
     "iopub.status.busy": "2022-04-26T03:46:58.185609Z",
     "iopub.status.idle": "2022-04-26T03:46:58.189384Z",
     "shell.execute_reply": "2022-04-26T03:46:58.188792Z",
     "shell.execute_reply.started": "2022-04-26T03:38:34.581646Z"
    },
    "papermill": {
     "duration": 0.058748,
     "end_time": "2022-04-26T03:46:58.189539",
     "exception": false,
     "start_time": "2022-04-26T03:46:58.130791",
     "status": "completed"
    },
    "tags": []
   },
   "outputs": [
    {
     "data": {
      "text/plain": [
       "age                39\n",
       "sex                 1\n",
       "bmi             45.43\n",
       "children            2\n",
       "smoker              0\n",
       "region      southeast\n",
       "charges     6356.2707\n",
       "Name: 582, dtype: object"
      ]
     },
     "execution_count": 30,
     "metadata": {},
     "output_type": "execute_result"
    }
   ],
   "source": [
    "#Retrieve specific rows from Dataframe\n",
    "df.iloc[581]"
   ]
  },
  {
   "cell_type": "code",
   "execution_count": 31,
   "id": "9d55a722",
   "metadata": {
    "execution": {
     "iopub.execute_input": "2022-04-26T03:46:58.290421Z",
     "iopub.status.busy": "2022-04-26T03:46:58.289741Z",
     "iopub.status.idle": "2022-04-26T03:46:58.293111Z",
     "shell.execute_reply": "2022-04-26T03:46:58.292567Z",
     "shell.execute_reply.started": "2022-04-26T03:38:34.593706Z"
    },
    "papermill": {
     "duration": 0.056527,
     "end_time": "2022-04-26T03:46:58.293266",
     "exception": false,
     "start_time": "2022-04-26T03:46:58.236739",
     "status": "completed"
    },
    "tags": []
   },
   "outputs": [
    {
     "data": {
      "text/plain": [
       "age                19\n",
       "sex                 1\n",
       "bmi             30.59\n",
       "children            0\n",
       "smoker              0\n",
       "region      northwest\n",
       "charges     1639.5631\n",
       "Name: 195, dtype: object"
      ]
     },
     "execution_count": 31,
     "metadata": {},
     "output_type": "execute_result"
    }
   ],
   "source": [
    "#Retrieve specific rows from Dataframe\n",
    "df.iloc[195]"
   ]
  },
  {
   "cell_type": "markdown",
   "id": "7d14014d",
   "metadata": {
    "papermill": {
     "duration": 0.047375,
     "end_time": "2022-04-26T03:46:58.388201",
     "exception": false,
     "start_time": "2022-04-26T03:46:58.340826",
     "status": "completed"
    },
    "tags": []
   },
   "source": [
    "**STEP #3: DATA VISUALISATION**"
   ]
  },
  {
   "cell_type": "code",
   "execution_count": 32,
   "id": "e960b5c7",
   "metadata": {
    "execution": {
     "iopub.execute_input": "2022-04-26T03:46:58.489130Z",
     "iopub.status.busy": "2022-04-26T03:46:58.488503Z",
     "iopub.status.idle": "2022-04-26T03:46:58.824154Z",
     "shell.execute_reply": "2022-04-26T03:46:58.824738Z",
     "shell.execute_reply.started": "2022-04-26T03:38:34.605569Z"
    },
    "papermill": {
     "duration": 0.388744,
     "end_time": "2022-04-26T03:46:58.824898",
     "exception": false,
     "start_time": "2022-04-26T03:46:58.436154",
     "status": "completed"
    },
    "tags": []
   },
   "outputs": [
    {
     "data": {
      "text/plain": [
       "<AxesSubplot:>"
      ]
     },
     "execution_count": 32,
     "metadata": {},
     "output_type": "execute_result"
    },
    {
     "data": {
      "image/png": "[encoded data removed]",
      "text/plain": [
       "<Figure size 864x576 with 1 Axes>"
      ]
     },
     "metadata": {},
     "output_type": "display_data"
    }
   ],
   "source": [
    "#Make a box-and-whisker plot from DataFrame columns, a method for graphically depicting groups of numerical data through their quartiles.\n",
    "df.boxplot()"
   ]
  },
  {
   "cell_type": "code",
   "execution_count": 33,
   "id": "846bf878",
   "metadata": {
    "execution": {
     "iopub.execute_input": "2022-04-26T03:46:58.928613Z",
     "iopub.status.busy": "2022-04-26T03:46:58.928012Z",
     "iopub.status.idle": "2022-04-26T03:46:59.187191Z",
     "shell.execute_reply": "2022-04-26T03:46:59.186705Z",
     "shell.execute_reply.started": "2022-04-26T03:38:34.935888Z"
    },
    "papermill": {
     "duration": 0.313568,
     "end_time": "2022-04-26T03:46:59.187334",
     "exception": false,
     "start_time": "2022-04-26T03:46:58.873766",
     "status": "completed"
    },
    "tags": []
   },
   "outputs": [
    {
     "data": {
      "text/plain": [
       "<AxesSubplot:>"
      ]
     },
     "execution_count": 33,
     "metadata": {},
     "output_type": "execute_result"
    },
    {
     "data": {
      "image/png": "[encoded data removed]",
      "text/plain": [
       "<Figure size 864x576 with 1 Axes>"
      ]
     },
     "metadata": {},
     "output_type": "display_data"
    }
   ],
   "source": [
    "insurance.boxplot()"
   ]
  },
  {
   "cell_type": "code",
   "execution_count": 34,
   "id": "2ed78b88",
   "metadata": {
    "execution": {
     "iopub.execute_input": "2022-04-26T03:46:59.293781Z",
     "iopub.status.busy": "2022-04-26T03:46:59.293107Z",
     "iopub.status.idle": "2022-04-26T03:46:59.587992Z",
     "shell.execute_reply": "2022-04-26T03:46:59.588448Z",
     "shell.execute_reply.started": "2022-04-26T03:38:35.187425Z"
    },
    "papermill": {
     "duration": 0.350566,
     "end_time": "2022-04-26T03:46:59.588610",
     "exception": false,
     "start_time": "2022-04-26T03:46:59.238044",
     "status": "completed"
    },
    "tags": []
   },
   "outputs": [
    {
     "data": {
      "image/png": "[encoded data removed]",
      "text/plain": [
       "<Figure size 1080x504 with 1 Axes>"
      ]
     },
     "metadata": {},
     "output_type": "display_data"
    }
   ],
   "source": [
    "df.plot(x='sex', y='charges', kind='scatter', color='dodgerblue',\\\n",
    "        figsize=(15,7), s=100);"
   ]
  },
  {
   "cell_type": "code",
   "execution_count": 35,
   "id": "4b73a122",
   "metadata": {
    "execution": {
     "iopub.execute_input": "2022-04-26T03:46:59.696304Z",
     "iopub.status.busy": "2022-04-26T03:46:59.695681Z",
     "iopub.status.idle": "2022-04-26T03:46:59.987270Z",
     "shell.execute_reply": "2022-04-26T03:46:59.986737Z",
     "shell.execute_reply.started": "2022-04-26T03:38:35.478317Z"
    },
    "papermill": {
     "duration": 0.346485,
     "end_time": "2022-04-26T03:46:59.987410",
     "exception": false,
     "start_time": "2022-04-26T03:46:59.640925",
     "status": "completed"
    },
    "tags": []
   },
   "outputs": [
    {
     "data": {
      "image/png": "[encoded data removed]",
      "text/plain": [
       "<Figure size 1080x504 with 1 Axes>"
      ]
     },
     "metadata": {},
     "output_type": "display_data"
    }
   ],
   "source": [
    "df.plot(x='sex', y='charges', kind='scatter', color='dodgerblue',\\\n",
    "        figsize=(15,7), s=100);"
   ]
  },
  {
   "cell_type": "markdown",
   "id": "fc60f09a",
   "metadata": {
    "papermill": {
     "duration": 0.053824,
     "end_time": "2022-04-26T03:47:00.095617",
     "exception": false,
     "start_time": "2022-04-26T03:47:00.041793",
     "status": "completed"
    },
    "tags": []
   },
   "source": [
    "**As the visualisation in Python is not ideal, we proceed with using Tableau for our Data Visualisation. To ignore Step 3 onwards**"
   ]
  }
 ],
 "metadata": {
  "kernelspec": {
   "display_name": "Python 3",
   "language": "python",
   "name": "python3"
  },
  "language_info": {
   "codemirror_mode": {
    "name": "ipython",
    "version": 3
   },
   "file_extension": ".py",
   "mimetype": "text/x-python",
   "name": "python",
   "nbconvert_exporter": "python",
   "pygments_lexer": "ipython3",
   "version": "3.7.12"
  },
  "papermill": {
   "default_parameters": {},
   "duration": 15.902926,
   "end_time": "2022-04-26T03:47:00.758426",
   "environment_variables": {},
   "exception": null,
   "input_path": "__notebook__.ipynb",
   "output_path": "__notebook__.ipynb",
   "parameters": {},
   "start_time": "2022-04-26T03:46:44.855500",
   "version": "2.3.3"
  }
 },
 "nbformat": 4,
 "nbformat_minor": 5
}
